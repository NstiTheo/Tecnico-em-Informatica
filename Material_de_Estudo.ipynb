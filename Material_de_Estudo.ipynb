{
  "nbformat": 4,
  "nbformat_minor": 0,
  "metadata": {
    "colab": {
      "provenance": [],
      "authorship_tag": "ABX9TyOkQT6C+0LkwIttxGqGdX8b",
      "include_colab_link": true
    },
    "kernelspec": {
      "name": "python3",
      "display_name": "Python 3"
    },
    "language_info": {
      "name": "python"
    }
  },
  "cells": [
    {
      "cell_type": "markdown",
      "metadata": {
        "id": "view-in-github",
        "colab_type": "text"
      },
      "source": [
        "<a href=\"https://colab.research.google.com/github/NstiTheo/Tecnico-em-Informatica/blob/main/Material_de_Estudo.ipynb\" target=\"_parent\"><img src=\"https://colab.research.google.com/assets/colab-badge.svg\" alt=\"Open In Colab\"/></a>"
      ]
    },
    {
      "cell_type": "markdown",
      "source": [
        "# O que é HTML?\n",
        "\n",
        "\n"
      ],
      "metadata": {
        "id": "4pEqW_s-JE8f"
      }
    },
    {
      "cell_type": "markdown",
      "source": [
        "- HTML = HyperText Markup Language (Linguagem de Marcação de Hipertexto).\n",
        "- Não é Linguagem de Programação: HTML não toma decisões ou faz cálculos. Ela descreve e estrutura o conteúdo.\n",
        "- Analogia: Pense no HTML como o esqueleto de uma página web. Ele define as partes principais: \"isto é um título\", \"isto é um parágrafo\", \"isto é uma imagem\". (CSS é a \"pele\" e a \"roupa\", JavaScript são os \"músculos\" e \"ações\").\n",
        "- Propósito: Dar siginificado (semântica) e organizar o conteúdo de um página para que o navegador saiba como exibi-lo."
      ],
      "metadata": {
        "id": "BuoiGoMZfEF3"
      }
    },
    {
      "cell_type": "markdown",
      "source": [
        "## O que são Tags?\n"
      ],
      "metadata": {
        "id": "BPyvZq3aKeS_"
      }
    },
    {
      "cell_type": "markdown",
      "source": [
        "- São comandos ou etiquetas que dizem ao navegador o que fazer com o texto o u elemento entre elas.\n",
        "- Como funcionam: Geralmente vêm em pares: uma tag de abertura (<tag>) e uma tag de fechamento (<tag>). O conteúdo fica no meio.\n",
        "- Exemplo: ```<p> Isso é um parágrafo. <p>``` <p> Isso é um parágrafo. <p>\n",
        "- Aninhamento: Tags podem ser colocadas dentro de outras tags, como caixas dentro de caixas.\n",
        "- Exemplo: ```<div><p> Texto dentro de uma div. <p><div>.``` A ordem de fechamento é inversa à de abertura. <div><p> Texto dentro de uma div. <p><div>\n",
        "- Tags Vazias/Autofechantes: Algumas tags não precisam de conteúdo interno e se fecham sozinhas.\n",
        "- Exemplo: ```<img> (imagem), <br> (quebra de linha), <hr> (linha horizontal). A sintaxe pode ser <tag> ou <tag/>```"
      ],
      "metadata": {
        "id": "5zfZsPApfBVH"
      }
    },
    {
      "cell_type": "markdown",
      "source": [
        "## A Estrutura Mínima\n",
        "\n"
      ],
      "metadata": {
        "id": "Ehq7GPGZUlbD"
      }
    },
    {
      "cell_type": "markdown",
      "source": [
        "```<!DOCTYPE html>\n",
        "<html>\n",
        "<head>\n",
        "\t<meta charset=\"utf-8\">\n",
        "\t<meta name=\"viewport\" content=\"width=device-width, initial-scale=1\">\n",
        "\t<title></title>\n",
        "</head>\n",
        "<body>\n",
        "\n",
        "</body>\n",
        "</html>\n"
      ],
      "metadata": {
        "id": "Y8d18_b9e9nX"
      }
    },
    {
      "cell_type": "markdown",
      "source": [
        "## Exemplo\n",
        "\n"
      ],
      "metadata": {
        "id": "empCxP9vbvpP"
      }
    },
    {
      "cell_type": "markdown",
      "source": [
        "<!DOCTYPE html>\n",
        "<html>\n",
        "<head>\n",
        "    <!-- Na head (cabeça) teremos as configurações do site, apenas o que não é visível. -->\n",
        "    <meta charset=\"utf-8\">\n",
        "    <meta name=\"viewport\" content=\"width=device-width, initial-scale=1\">\n",
        "    <title>Meu Primeiro Site</title>\n",
        "</head>\n",
        "<body>\n",
        "    <!-- No body (corpo) colocaremos tudo o que quisermos que seja visível. -->\n",
        "\n",
        "    <!-- Tag p é de parágrafo, sempre que quisermos separar um texto de outro, colocamos eles em diferentes parágrafos. -->\n",
        "    <p>Olá, mundo!</p>\n",
        "\n",
        "    <!-- Tags de níveis de títulos -->\n",
        "    <!-- h1 - Nível mais alto do título -->\n",
        "    <h1>Título H1</h1>\n",
        "    <h2>Título H2</h2>\n",
        "    <h3>Título H3</h3>\n",
        "    <h4>Título H4</h4>\n",
        "    <h5>Título H5</h5>\n",
        "    <h6>Título H6</h6>\n",
        "\n",
        "    <!-- A tag br serve para quebrar uma linha -->\n",
        "    <p>\n",
        "        O ornitorrinco é um mamífero semiaquático natural da Austrália e Tasmânia.\n",
        "        É o único representante vivo da família Ornithorhynchidae, e a única espécie do gênero Ornithorhynchus. <br>\n",
        "        Juntamente com as equidnas, formam o grupo dos monotremados, os únicos mamíferos ovíparos existentes.\n",
        "    </p>\n",
        "\n",
        "    <!-- a é o link, pelo href vou colocar o link que irei acessar -->\n",
        "    <a href=\"https://pt.wikipedia.org/wiki/Ornitorrinco\">Ornitorrinco</a>\n",
        "\n",
        "    <!-- Lista não ordenada é ul -->\n",
        "    <!-- li é cada item da lista -->\n",
        "    <ul>\n",
        "        <li>Item 1</li>\n",
        "        <li>Item 2</li>\n",
        "    </ul>\n",
        "\n",
        "    <!-- LISTA ORDENADA (OL) -->\n",
        "    <!-- li é cada item da lista -->\n",
        "    <ol>\n",
        "        <li>Primeiro Item</li>\n",
        "        <li>Segundo Item</li>\n",
        "    </ol>\n",
        "\n",
        "    <!-- IMAGENS (img) -->\n",
        "    <!-- src é onde está a imagem, se está na mesma pasta, basta colocar o nome do arquivo.\n",
        "         Se for online, coloque o link. -->\n",
        "    <img src=\"perry_ornitorrinco.jpg\" alt=\"A imagem apresenta o Ornitorrinco Perry do desenho Phineas e Ferb\">\n",
        "\n",
        "    <!-- TABELAS (table)\n",
        "         <tr> Cria uma nova linha\n",
        "         <th> Cria uma célula de cabeçalho\n",
        "         <td> Cria uma célula\n",
        "    -->\n",
        "    <table>\n",
        "        <tr>\n",
        "            <th>Descrição</th>\n",
        "            <th>Valor Entrada</th>\n",
        "            <th>Valor Saída</th>\n",
        "        </tr>\n",
        "        <tr>\n",
        "            <td>Conta de Energia</td>\n",
        "            <td></td>\n",
        "            <td>350,00</td>\n",
        "        </tr>\n",
        "        <tr>\n",
        "            <td>Vendas</td>\n",
        "            <td>1750,00</td>\n",
        "            <td>15,00</td>\n",
        "        </tr>\n",
        "    </table>\n",
        "</body>\n",
        "</html>\n"
      ],
      "metadata": {
        "id": "M2J_7MgKezLH"
      }
    },
    {
      "cell_type": "code",
      "source": [
        "<!DOCTYPE html>\n",
        "<html>\n",
        "<head>\n",
        "    <!-- Na head (cabeça) teremos as configurações do site, apenas o que não é visível. -->\n",
        "    <meta charset=\"utf-8\">\n",
        "    <meta name=\"viewport\" content=\"width=device-width, initial-scale=1\">\n",
        "    <title>Meu Primeiro Site</title>\n",
        "</head>\n",
        "<body>\n",
        "    <!-- No body (corpo) colocaremos tudo o que quisermos que seja visível. -->\n",
        "\n",
        "    <!-- Tag p é de parágrafo, sempre que quisermos separar um texto de outro, colocamos eles em diferentes parágrafos. -->\n",
        "    <p>Olá, mundo!</p>\n",
        "\n",
        "    <!-- Tags de níveis de títulos -->\n",
        "    <!-- h1 - Nível mais alto do título -->\n",
        "    <h1>Título H1</h1>\n",
        "    <h2>Título H2</h2>\n",
        "    <h3>Título H3</h3>\n",
        "    <h4>Título H4</h4>\n",
        "    <h5>Título H5</h5>\n",
        "    <h6>Título H6</h6>\n",
        "\n",
        "    <!-- A tag br serve para quebrar uma linha -->\n",
        "    <p>\n",
        "        O ornitorrinco é um mamífero semiaquático natural da Austrália e Tasmânia.\n",
        "        É o único representante vivo da família Ornithorhynchidae, e a única espécie do gênero Ornithorhynchus. <br>\n",
        "        Juntamente com as equidnas, formam o grupo dos monotremados, os únicos mamíferos ovíparos existentes.\n",
        "    </p>\n",
        "\n",
        "    <!-- a é o link, pelo href vou colocar o link que irei acessar -->\n",
        "    <a href=\"https://pt.wikipedia.org/wiki/Ornitorrinco\">Ornitorrinco</a>\n",
        "\n",
        "    <!-- Lista não ordenada é ul -->\n",
        "    <!-- li é cada item da lista -->\n",
        "    <ul>\n",
        "        <li>Item 1</li>\n",
        "        <li>Item 2</li>\n",
        "    </ul>\n",
        "\n",
        "    <!-- LISTA ORDENADA (OL) -->\n",
        "    <!-- li é cada item da lista -->\n",
        "    <ol>\n",
        "        <li>Primeiro Item</li>\n",
        "        <li>Segundo Item</li>\n",
        "    </ol>\n",
        "\n",
        "    <!-- IMAGENS (img) -->\n",
        "    <!-- src é onde está a imagem, se está na mesma pasta, basta colocar o nome do arquivo.\n",
        "         Se for online, coloque o link. -->\n",
        "    <img src=\"perry_ornitorrinco.jpg\" alt=\"A imagem apresenta o Ornitorrinco Perry do desenho Phineas e Ferb\">\n",
        "\n",
        "    <!-- TABELAS (table)\n",
        "         <tr> Cria uma nova linha\n",
        "         <th> Cria uma célula de cabeçalho\n",
        "         <td> Cria uma célula\n",
        "    -->\n",
        "    <table>\n",
        "        <tr>\n",
        "            <th>Descrição</th>\n",
        "            <th>Valor Entrada</th>\n",
        "            <th>Valor Saída</th>\n",
        "        </tr>\n",
        "        <tr>\n",
        "            <td>Conta de Energia</td>\n",
        "            <td></td>\n",
        "            <td>350,00</td>\n",
        "        </tr>\n",
        "        <tr>\n",
        "            <td>Vendas</td>\n",
        "            <td>1750,00</td>\n",
        "            <td>15,00</td>\n",
        "        </tr>\n",
        "    </table>\n",
        "</body>\n",
        "</html>"
      ],
      "metadata": {
        "id": "zWofhRA1M2Yq"
      },
      "execution_count": null,
      "outputs": []
    },
    {
      "cell_type": "markdown",
      "source": [
        "## O que significa cada tag?\n",
        "\n"
      ],
      "metadata": {
        "id": "VziaIVHgdDYo"
      }
    },
    {
      "cell_type": "markdown",
      "source": [
        "- ```<!DOCTYPE html>```: Declaração obrigatória. Informa ao navegador que este é um documento HTML5 (a versão mais recente). Não é uma tag HTML, mas uma instrução.\n",
        "- ```html</html>```: A tag raiz. Tudo no documento HTML fica dentro dela.\n",
        "- ```<head></head>```: Cabeçalho do documento. Contém informações sobre a página, que geralmente não são visíveis diretamente no conteúdo principal.\n",
        "- ```<meta charset=\"UTF-8\">```: Define o conjunto de caracteres a ser usado. UTF-8 é o padrão universal e permite acentos, cedilha, etc. Essencial!\n",
        "- ```<title></title>```: Define o título da página, que aparece na aba ou na barra de título do navegador. Importante para SEO (busca do Google) e usabilidade.\n",
        "- ```<body></body>```: Corpo do documento. Aqui vai todo o conteúdo visível da página: textos, imagens, links, links, etc. É onde passaremos a maior parte do tempo."
      ],
      "metadata": {
        "id": "EEr2jUUse5-w"
      }
    },
    {
      "cell_type": "code",
      "source": [],
      "metadata": {
        "id": "1814EGnrefls"
      },
      "execution_count": null,
      "outputs": []
    }
  ]
}