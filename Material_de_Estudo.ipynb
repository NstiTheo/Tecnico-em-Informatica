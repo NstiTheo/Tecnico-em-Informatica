{
  "nbformat": 4,
  "nbformat_minor": 0,
  "metadata": {
    "colab": {
      "provenance": [],
      "authorship_tag": "ABX9TyOj2GSkPsGJLRZ9xjvcVdQq",
      "include_colab_link": true
    },
    "kernelspec": {
      "name": "python3",
      "display_name": "Python 3"
    },
    "language_info": {
      "name": "python"
    }
  },
  "cells": [
    {
      "cell_type": "markdown",
      "metadata": {
        "id": "view-in-github",
        "colab_type": "text"
      },
      "source": [
        "<a href=\"https://colab.research.google.com/github/NstiTheo/Tecnico-em-Informatica/blob/main/Material_de_Estudo.ipynb\" target=\"_parent\"><img src=\"https://colab.research.google.com/assets/colab-badge.svg\" alt=\"Open In Colab\"/></a>"
      ]
    },
    {
      "cell_type": "markdown",
      "source": [
        "# O que é HTML?\n",
        "\n",
        "- HTML = HyperText Markup Language (Linguagem de Marcação de Hipertexto).\n",
        "- Não é Linguagem de Programação: HTML não toma decisões ou faz cálculos. Ela descreve e estrutura o conteúdo.\n",
        "- Analogia: Pense no HTML como o esqueleto de uma página web. Ele define as partes principais: \"isto é um título\", \"isto é um parágrafo\", \"isto é uma imagem\". (CSS é a \"pele\" e a \"roupa\", JavaScript são os \"músculos\" e \"ações\").\n",
        "- Propósito: Dar siginificado (semântica) e organizar o conteúdo de um página para que o navegador saiba como exibi-lo.\n"
      ],
      "metadata": {
        "id": "4pEqW_s-JE8f"
      }
    },
    {
      "cell_type": "markdown",
      "source": [
        "## O que são Tags?\n",
        "- São comandos ou etiquetas que dizem ao navegador o que fazer com o texto o u elemento entre elas.\n",
        "- Como funcionam: Geralmente vêm em pares: uma tag de abertura (<tag>) e uma tag de fechamento (<tag>). O conteúdo fica no meio.\n",
        "- Exemplo: ```<p> Isso é um parágrafo. <p>``` <p> Isso é um parágrafo. <p>\n",
        "- Aninhamento: Tags podem ser colocadas dentro de outras tags, como caixas dentro de caixas.\n",
        "- Exemplo: ```<div><p> Texto dentro de uma div. <p><div>.``` A ordem de fechamento é inversa à de abertura. <div><p> Texto dentro de uma div. <p><div>\n",
        "- Tags Vazias/Autofechantes: Algumas tags não precisam de conteúdo interno e se fecham sozinhas.\n",
        "- Exemplo: ```<img> (imagem), <br> (quebra de linha), <hr> (linha horizontal). A sintaxe pode ser <tag> ou <tag/>```"
      ],
      "metadata": {
        "id": "BPyvZq3aKeS_"
      }
    },
    {
      "cell_type": "markdown",
      "source": [
        "## Estrutura Básica\n",
        "\n",
        "```<!DOCTYPE html>\n",
        "<html>\n",
        "<head>\n",
        "\t<meta charset=\"utf-8\">\n",
        "\t<meta name=\"viewport\" content=\"width=device-width, initial-scale=1\">\n",
        "\t<title></title>\n",
        "</head>\n",
        "<body>\n",
        "\n",
        "</body>\n",
        "</html>\n"
      ],
      "metadata": {
        "id": "Ehq7GPGZUlbD"
      }
    },
    {
      "cell_type": "markdown",
      "source": [
        "## Exemplo\n",
        "\n",
        "### Código:\n",
        "\n",
        "```<!DOCTYPE html>\n",
        "<html>\n",
        "<head>\n",
        "\t<!-- Na head (cabeça) teremos as configurações do site, apenas o que não é visível. -->\n",
        "\t<meta charset=\"utf-8\">\n",
        "\t<meta name=\"viewport\" content=\"width=device-width, initial-scale=1\">\n",
        "\t<title>Meu Primeiro Site</title>\n",
        "</head>\n",
        "<body>\n",
        "\t<!-- No body (corpo) colocaremos tudo o que quisermos que seja visível. -->\n",
        "\t<!-- Tag p é de paragráfo, sempre que quisermos separar um texto de outro, colocamos eles em diferentes parágrafos. -->\n",
        "\t<p>Olá, mundo!</p>\n",
        "\n",
        "\t<!-- Tags de níveis de títulos -->\n",
        "\t<!-- h1 - Nível mais alto do título -->\n",
        "\t<h1>Título H1</h1>\n",
        "\t<h2>Título H2</h2>\n",
        "\t<h3>Título H3</h3>\n",
        "\t<h4>Título H4</h4>\n",
        "\t<h5>Título H5</h5>\n",
        "\t<h6>Título H6</h6>\n",
        "\n",
        "\t<!-- A tag br serve para quebrar uma linha -->\n",
        "\t<p>O ornitorrinco é um mamífero semiaquático natural da Austrália e Tasmânia. É o único representante vivo da família Ornithorhynchidae, e a única espécie do gênero Ornithorhynchus. <br> Juntamente com as equidnas, formam o grupo dos monotremados, os únicos mamíferos ovíparos existentes.</p>\n",
        "</body>\n",
        "</html>\n",
        "\n"
      ],
      "metadata": {
        "id": "empCxP9vbvpP"
      }
    },
    {
      "cell_type": "code",
      "source": [
        "<!DOCTYPE html>\n",
        "<html>\n",
        "<head>\n",
        "\t<!-- Na head (cabeça) teremos as configurações do site, apenas o que não é visível. -->\n",
        "\t<meta charset=\"utf-8\">\n",
        "\t<meta name=\"viewport\" content=\"width=device-width, initial-scale=1\">\n",
        "\t<title>Meu Primeiro Site</title>\n",
        "</head>\n",
        "<body>\n",
        "\t<!-- No body (corpo) colocaremos tudo o que quisermos que seja visível. -->\n",
        "\t<!-- Tag p é de paragráfo, sempre que quisermos separar um texto de outro, colocamos eles em diferentes parágrafos. -->\n",
        "\t<p>Olá, mundo!</p>\n",
        "\n",
        "\t<!-- Tags de níveis de títulos -->\n",
        "\t<!-- h1 - Nível mais alto do título -->\n",
        "\t<h1>Título H1</h1>\n",
        "\t<h2>Título H2</h2>\n",
        "\t<h3>Título H3</h3>\n",
        "\t<h4>Título H4</h4>\n",
        "\t<h5>Título H5</h5>\n",
        "\t<h6>Título H6</h6>\n",
        "\n",
        "\t<!-- A tag br serve para quebrar uma linha -->\n",
        "\t<p>O ornitorrinco é um mamífero semiaquático natural da Austrália e Tasmânia. É o único representante vivo da família Ornithorhynchidae, e a única espécie do gênero Ornithorhynchus.\n",
        "  <br> Juntamente com as equidnas, formam o grupo dos monotremados, os únicos mamíferos ovíparos existentes.</p>\n",
        "</body>\n",
        "</html>"
      ],
      "metadata": {
        "id": "zWofhRA1M2Yq"
      },
      "execution_count": null,
      "outputs": []
    }
  ]
}