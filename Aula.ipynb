{
  "nbformat": 4,
  "nbformat_minor": 0,
  "metadata": {
    "colab": {
      "provenance": [],
      "authorship_tag": "ABX9TyN7yRn2I0eu4EkSqKRtuUC6",
      "include_colab_link": true
    },
    "kernelspec": {
      "name": "python3",
      "display_name": "Python 3"
    },
    "language_info": {
      "name": "python"
    }
  },
  "cells": [
    {
      "cell_type": "markdown",
      "metadata": {
        "id": "view-in-github",
        "colab_type": "text"
      },
      "source": [
        "<a href=\"https://colab.research.google.com/github/NstiTheo/Tecnico-em-Informatica/blob/main/Untitled0.ipynb\" target=\"_parent\"><img src=\"https://colab.research.google.com/assets/colab-badge.svg\" alt=\"Open In Colab\"/></a>"
      ]
    },
    {
      "cell_type": "markdown",
      "source": [
        "# **Aula: Funções em Python**"
      ],
      "metadata": {
        "id": "2sCn1aW9XBO8"
      }
    },
    {
      "cell_type": "markdown",
      "source": [
        "## 1 - O que são funções?"
      ],
      "metadata": {
        "id": "ek6gzv2GX4Vi"
      }
    },
    {
      "cell_type": "markdown",
      "source": [
        "Uma função é um bloco de código reutilizável que executa uma tarefa especifica."
      ],
      "metadata": {
        "id": "s5ok1S-rX_Yx"
      }
    },
    {
      "cell_type": "markdown",
      "source": [
        "\n",
        "\n",
        "*   **Objetivo da função:** O motivo porque a função foi criada.\n",
        "*   **Parâmetro:** O que é necessário para que aquela tarefa seja executada.\n",
        "*   **Bloco de Código:** Passo a passo para chegar no resultado.\n",
        "*   **Return:** Resultado da função.\n"
      ],
      "metadata": {
        "id": "HUdp1EbGZFvX"
      }
    },
    {
      "cell_type": "markdown",
      "source": [
        "Principais beneficios de se utilizar funções em programação:\n",
        "*   Reutilização de código.\n",
        "*   Organização do programa.\n",
        "*   Facilidade de manutenção.\n",
        "*   Clareza na lógica.\n",
        "\n"
      ],
      "metadata": {
        "id": "p60F9u-Jbxwh"
      }
    },
    {
      "cell_type": "markdown",
      "source": [
        "### 1.1 - Sintaxe Básica"
      ],
      "metadata": {
        "id": "jOEWQS1iaISq"
      }
    },
    {
      "cell_type": "code",
      "execution_count": 12,
      "metadata": {
        "id": "ja8UtSZGVF6i",
        "collapsed": true
      },
      "outputs": [],
      "source": [
        "def nome_funcao (parametros):\n",
        "  # bloco de código\n",
        "  return valor"
      ]
    },
    {
      "cell_type": "code",
      "source": [
        "def saudacao():\n",
        "  print(\"Olá, seja bem´vindo!\")\n",
        "\n",
        "  saudacao() # nessa linha estou chamando a função saudacao."
      ],
      "metadata": {
        "id": "yPuEEf1ea-v_"
      },
      "execution_count": 11,
      "outputs": []
    },
    {
      "cell_type": "markdown",
      "source": [
        "### 1.2 Parâmetros e Argumentos\n",
        "\n",
        "* **Parâmetros:** São variáveis que a função espera receber.\n",
        "* **Argumentos:** São valores reais passados na chamada da função."
      ],
      "metadata": {
        "id": "OnlNSDxRemEH"
      }
    },
    {
      "cell_type": "code",
      "source": [
        "def soma(a,b): # a e b são parâmetros.\n",
        "  return a + b\n",
        "\n",
        "print(soma(8, 1)) # 8 e 1 são argumentos."
      ],
      "metadata": {
        "id": "EkH2AS3Ce642"
      },
      "execution_count": null,
      "outputs": []
    },
    {
      "cell_type": "code",
      "source": [
        "def subtracao(num1, num2):\n",
        "  return num1 - num2\n",
        "\n",
        "numero1 = int(input(\"Digite o primeiro numero: \"))\n",
        "numero2 = int(input(\"Digite o segundo numero: \"))\n",
        "\n",
        "print(subtracao(numero1, numero2))"
      ],
      "metadata": {
        "colab": {
          "base_uri": "https://localhost:8080/"
        },
        "id": "As7utPtugqXa",
        "outputId": "f7842efb-4f9c-4257-ad81-aea21c056e7d"
      },
      "execution_count": 16,
      "outputs": [
        {
          "output_type": "stream",
          "name": "stdout",
          "text": [
            "Digite o primeiro numero: 1\n",
            "Digite o segundo numero: 2\n",
            "-1\n"
          ]
        }
      ]
    }
  ]
}
