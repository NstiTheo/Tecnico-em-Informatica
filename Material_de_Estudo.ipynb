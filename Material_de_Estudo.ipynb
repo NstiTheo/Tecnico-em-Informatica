{
  "nbformat": 4,
  "nbformat_minor": 0,
  "metadata": {
    "colab": {
      "provenance": [],
      "authorship_tag": "ABX9TyOw2bZbwkgH/4iwxKGaGAY4",
      "include_colab_link": true
    },
    "kernelspec": {
      "name": "python3",
      "display_name": "Python 3"
    },
    "language_info": {
      "name": "python"
    }
  },
  "cells": [
    {
      "cell_type": "markdown",
      "metadata": {
        "id": "view-in-github",
        "colab_type": "text"
      },
      "source": [
        "<a href=\"https://colab.research.google.com/github/NstiTheo/Tecnico-em-Informatica/blob/main/Material_de_Estudo.ipynb\" target=\"_parent\"><img src=\"https://colab.research.google.com/assets/colab-badge.svg\" alt=\"Open In Colab\"/></a>"
      ]
    },
    {
      "cell_type": "markdown",
      "source": [
        "# O que é HTML?\n",
        "\n",
        "- HTML = HyperText Markup Language (Linguagem de Marcação de Hipertexto).\n",
        "- Não é Linguagem de Programação: HTML não toma decisões ou faz cálculos. Ela descreve e estrutura o conteúdo.\n",
        "- Analogia: Pense no HTML como o esqueleto de uma página web. Ele define as partes principais: \"isto é um título\", \"isto é um parágrafo\", \"isto é uma imagem\". (CSS é a \"pele\" e a \"roupa\", JavaScript são os \"músculos\" e \"ações\").\n",
        "- Propósito: Dar siginificado (semântica) e organizar o conteúdo de um página para que o navegador saiba como exibi-lo.\n"
      ],
      "metadata": {
        "id": "4pEqW_s-JE8f"
      }
    },
    {
      "cell_type": "markdown",
      "source": [
        "## O que são Tags?\n",
        "- São comandos ou etiquetas que dizem ao navegador o que fazer com o texto o u elemento entre elas.\n",
        "- Como funcionam: Geralmente vêm em pares: uma tag de abertura (<tag>) e uma tag de fechamento (<tag>). O conteúdo fica no meio.\n",
        "- Exemplo: ```<p> Isso é um parágrafo. <p>``` <p> Isso é um parágrafo. <p>"
      ],
      "metadata": {
        "id": "BPyvZq3aKeS_"
      }
    }
  ]
}